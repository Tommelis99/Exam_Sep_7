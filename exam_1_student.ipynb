{
 "cells": [
  {
   "cell_type": "markdown",
   "metadata": {},
   "source": [
    "# Exam R\n",
    "Mark Klik & Misja Mikkers\n",
    "\n",
    "# Introduction\n",
    "\n",
    "Before you turn this problem in, make sure everything runs as expected. First, **restart the kernel** (in the menubar, select Kernel$\\rightarrow$Restart) and then **run all cells** (in the menubar, select Cell$\\rightarrow$Run All).\n",
    "\n",
    "Make sure you fill in any place that says `YOUR CODE HERE` or \"YOUR ANSWER HERE\", as well as your name and collaborators below:\n",
    "\n"
   ]
  },
  {
   "cell_type": "code",
   "execution_count": 156,
   "metadata": {},
   "outputs": [],
   "source": [
    "NAME = \"Tom Melis, 2009060\"\n",
    "COLLABORATORS = \"\""
   ]
  },
  {
   "cell_type": "markdown",
   "metadata": {},
   "source": [
    "Fill in the cell above to provide us with your name and student number, like\n",
    "\n",
    "NAME = \"Adam Smith, #student number#\"\n",
    "\n",
    "where you replace \"#student number#\" with your ... (very good!)\n",
    "\n",
    "Unfortunately, you are not allowed to work with \"COLLABORATORS\" in this exam.\n",
    "\n",
    "## exam September 7th, 2018\n",
    "\n",
    "With this R part of the exam you can earn at max. 4 points.\n",
    "\n",
    "In the first cell of the notebook, give us your name and student number in the way indicated above.\n",
    "\n",
    "Fill in the notebook (see below for code cells and text cells that you need to fill in).\n",
    "\n",
    "If you look at the menus above (File, Edit, View etc.), there is one called \"Cell\". If you click on this, you can change the \"Cell Type\". Choose \"Code\" when you are typing python or R code. Choose \"Markdown\" when you are typing, well, markdown.\n",
    "\n",
    "When you finish the notebook, make sure that you save it with the output of your code included.\n",
    "\n",
    "Then put it on github, e.g. by dragging it onto github (see instructions below).\n",
    "\n",
    "Finally, add a link to your README file with the name of this exam: \"Exam R September 7, 2018\".\n",
    "\n",
    "# Packages\n",
    "\n",
    "You will need the following packages for this exam."
   ]
  },
  {
   "cell_type": "code",
   "execution_count": 157,
   "metadata": {},
   "outputs": [],
   "source": [
    "library(tidyverse)\n",
    "library(gvlma)"
   ]
  },
  {
   "cell_type": "markdown",
   "metadata": {},
   "source": [
    "# Assignment 1\n",
    "\n",
    "## Data\n",
    "\n",
    "Please read in \"advertising.csv\" and check the structure.\n",
    "\n",
    "If needed change the variables TV and sales into a numeric variable.\n",
    "\n",
    "Hint: don't forget you cannot change a factor in a numeric variable directly!\n",
    "\n"
   ]
  },
  {
   "cell_type": "code",
   "execution_count": 158,
   "metadata": {},
   "outputs": [
    {
     "name": "stdout",
     "output_type": "stream",
     "text": [
      "'data.frame':\t200 obs. of  5 variables:\n",
      " $ Observation: int  1 2 3 4 5 6 7 8 9 10 ...\n",
      " $ TV         : Factor w/ 190 levels \"0.7\",\"100.4\",..: 98 149 44 35 54 178 156 12 177 69 ...\n",
      " $ radio      : Factor w/ 167 levels \"0\",\"0.3\",\"0.4\",..: 113 118 141 127 13 148 93 40 42 45 ...\n",
      " $ newspaper  : Factor w/ 172 levels \"0.3\",\"0.9\",\"1\",..: 150 106 151 138 137 158 54 11 3 45 ...\n",
      " $ sales      : Factor w/ 121 levels \"1.6\",\"10.1\",\"10.3\",..: 79 4 116 62 27 105 17 28 95 6 ...\n"
     ]
    }
   ],
   "source": [
    "advertising1 <- read.csv2('../Sourcedata/advertising.csv')\n",
    "TVnumeric <- as.numeric(as.character(TV))\n",
    "salesnumeric <- as.numeric(as.character(advertising1$sales))\n",
    "str(advertising1)\n",
    "#Since TV and sales are indeed factors, we need to change them to numeric variables first"
   ]
  },
  {
   "cell_type": "code",
   "execution_count": 159,
   "metadata": {},
   "outputs": [
    {
     "name": "stdout",
     "output_type": "stream",
     "text": [
      "'data.frame':\t200 obs. of  7 variables:\n",
      " $ Observation                                                 : int  1 2 3 4 5 6 7 8 9 10 ...\n",
      " $ TV                                                          : Factor w/ 190 levels \"0.7\",\"100.4\",..: 98 149 44 35 54 178 156 12 177 69 ...\n",
      " $ radio                                                       : Factor w/ 167 levels \"0\",\"0.3\",\"0.4\",..: 113 118 141 127 13 148 93 40 42 45 ...\n",
      " $ newspaper                                                   : Factor w/ 172 levels \"0.3\",\"0.9\",\"1\",..: 150 106 151 138 137 158 54 11 3 45 ...\n",
      " $ sales                                                       : Factor w/ 121 levels \"1.6\",\"10.1\",\"10.3\",..: 79 4 116 62 27 105 17 28 95 6 ...\n",
      " $ TVnumeric <- as.numeric(as.character(TV))                   : num  230.1 44.5 17.2 151.5 180.8 ...\n",
      " $ salesnumeric <- as.numeric(as.character(advertising1$sales)): num  22.1 10.4 9.3 18.5 12.9 7.2 11.8 13.2 4.8 10.6 ...\n"
     ]
    }
   ],
   "source": [
    "advertising2 <- advertising1 %>%\n",
    "mutate(\n",
    "TVnumeric <- as.numeric(as.character(TV)),\n",
    "salesnumeric <- as.numeric(as.character(advertising1$sales)))\n",
    "str(advertising2)\n",
    "#the codes from the lecture don't seem to work. Therefore, I create two new variables with different names. When I check the structure of the data now, these variables are indeed numeric."
   ]
  },
  {
   "cell_type": "markdown",
   "metadata": {},
   "source": [
    "\n",
    "\n",
    "## Regression \n",
    "\n",
    "You will now have to run a regression with sales as a function of TV. Show the summary statistics and check if the assumptions of linear regression are met (hint: use package gvlma)."
   ]
  },
  {
   "cell_type": "code",
   "execution_count": 160,
   "metadata": {},
   "outputs": [
    {
     "data": {
      "text/plain": [
       "\n",
       "Call:\n",
       "lm(formula = salesnumeric ~ TVnumeric, data = advertising2)\n",
       "\n",
       "Coefficients:\n",
       "(Intercept)    TVnumeric  \n",
       "    7.03259      0.04754  \n"
      ]
     },
     "metadata": {},
     "output_type": "display_data"
    }
   ],
   "source": [
    "model1 <- lm(data=advertising2, salesnumeric ~ TVnumeric)\n",
    "model1\n",
    "#Since sales depend on TV, sales is the dependent variable and thus comes in front"
   ]
  },
  {
   "cell_type": "code",
   "execution_count": 161,
   "metadata": {},
   "outputs": [
    {
     "data": {
      "text/plain": [
       "\n",
       "Call:\n",
       "lm(formula = salesnumeric ~ TVnumeric, data = advertising2)\n",
       "\n",
       "Coefficients:\n",
       "(Intercept)    TVnumeric  \n",
       "    7.03259      0.04754  \n",
       "\n",
       "\n",
       "ASSESSMENT OF THE LINEAR MODEL ASSUMPTIONS\n",
       "USING THE GLOBAL TEST ON 4 DEGREES-OF-FREEDOM:\n",
       "Level of Significance =  0.05 \n",
       "\n",
       "Call:\n",
       " gvlma(x = model1) \n",
       "\n",
       "                    Value p-value                Decision\n",
       "Global Stat        5.3240 0.25564 Assumptions acceptable.\n",
       "Skewness           0.2619 0.60885 Assumptions acceptable.\n",
       "Kurtosis           0.4070 0.52352 Assumptions acceptable.\n",
       "Link Function      3.6906 0.05472 Assumptions acceptable.\n",
       "Heteroscedasticity 0.9646 0.32602 Assumptions acceptable."
      ]
     },
     "metadata": {},
     "output_type": "display_data"
    }
   ],
   "source": [
    "gvlma(model1)\n",
    "#As we see, the assumptions are acceptable"
   ]
  },
  {
   "cell_type": "markdown",
   "metadata": {},
   "source": [
    "## Plot\n",
    "\n",
    "Now you have to make a scatter plot of the data:\n",
    "\n",
    "* with TV on the x-axis\n",
    "* sales on the y-axis\n",
    "* the regression line in green, with confidence interval\n",
    "* in a light theme\n"
   ]
  },
  {
   "cell_type": "code",
   "execution_count": 162,
   "metadata": {},
   "outputs": [
    {
     "data": {},
     "metadata": {},
     "output_type": "display_data"
    },
    {
     "data": {
      "image/png": "[encoded data removed]",
      "text/plain": [
       "plot without title"
      ]
     },
     "metadata": {},
     "output_type": "display_data"
    }
   ],
   "source": [
    "plot1 <- ggplot(data=advertising2, aes(x=TVnumeric, y=salesnumeric)) +\n",
    "geom_point()\n",
    "plot1"
   ]
  },
  {
   "cell_type": "code",
   "execution_count": 163,
   "metadata": {},
   "outputs": [
    {
     "data": {},
     "metadata": {},
     "output_type": "display_data"
    },
    {
     "data": {
      "image/png": "[encoded data removed]",
      "text/plain": [
       "plot without title"
      ]
     },
     "metadata": {},
     "output_type": "display_data"
    }
   ],
   "source": [
    "plot2 <- plot1 + geom_smooth(method=lm, se=TRUE, color = 'green') +\n",
    "xlab('TV') + ylab('Sales') + theme_light()\n",
    "plot2"
   ]
  },
  {
   "cell_type": "markdown",
   "metadata": {},
   "source": [
    "First, I make a scatter plot, which depicts all observations. Then, I make a new plot with a regression line by adding geom_smooth with method set to lm. se = true gives the confidence interval and I assigned green to color."
   ]
  },
  {
   "cell_type": "markdown",
   "metadata": {},
   "source": [
    "End of notebook"
   ]
  }
 ],
 "metadata": {
  "anaconda-cloud": {},
  "kernelspec": {
   "display_name": "R",
   "language": "R",
   "name": "ir"
  },
  "language_info": {
   "codemirror_mode": "r",
   "file_extension": ".r",
   "mimetype": "text/x-r-source",
   "name": "R",
   "pygments_lexer": "r",
   "version": "3.4.3"
  }
 },
 "nbformat": 4,
 "nbformat_minor": 1
}
