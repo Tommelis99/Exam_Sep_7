{
 "cells": [
  {
   "cell_type": "markdown",
   "metadata": {},
   "source": [
    "Before you turn this problem in, make sure everything runs as expected. First, **restart the kernel** (in the menubar, select Kernel$\\rightarrow$Restart) and then **run all cells** (in the menubar, select Cell$\\rightarrow$Run All).\n",
    "\n",
    "Make sure you fill in any place that says `YOUR CODE HERE` or \"YOUR ANSWER HERE\", as well as your name and collaborators below:"
   ]
  },
  {
   "cell_type": "code",
   "execution_count": 1,
   "metadata": {},
   "outputs": [],
   "source": [
    "NAME = \"Tom Melis, 2009060\"\n",
    "COLLABORATORS = \"\""
   ]
  },
  {
   "cell_type": "markdown",
   "metadata": {},
   "source": [
    "---"
   ]
  },
  {
   "cell_type": "markdown",
   "metadata": {
    "deletable": false,
    "editable": false,
    "nbgrader": {
     "checksum": "e53eb7da4b90cccdbeb5924177a0d295",
     "grade": false,
     "grade_id": "cell-bace731f185b39bb",
     "locked": true,
     "schema_version": 1,
     "solution": false
    }
   },
   "source": [
    "Fill in the cell above to provide us with your name and student number, like\n",
    "\n",
    "NAME = \"Adam Smith, #student number#\"\n",
    "\n",
    "where you replace \"#student number#\" with your ... (very good!)\n",
    "\n",
    "Unfortunately, you are not allowed to work with \"COLLABORATORS\" in this exam."
   ]
  },
  {
   "cell_type": "markdown",
   "metadata": {
    "deletable": false,
    "editable": false,
    "nbgrader": {
     "checksum": "6cd862f4345c0a072c59a404cda0ba85",
     "grade": false,
     "grade_id": "cell-895e9a7b94992ec9",
     "locked": true,
     "schema_version": 1,
     "solution": false
    }
   },
   "source": [
    "# exam September 7th, 2018\n",
    "\n",
    "With this python part of the exam you can earn at max. 4 points.\n",
    "\n"
   ]
  },
  {
   "cell_type": "markdown",
   "metadata": {
    "deletable": false,
    "editable": false,
    "nbgrader": {
     "checksum": "e7913cd5c9f8f9e4ad1b4b7e924a9a84",
     "grade": false,
     "grade_id": "cell-540987818af25557",
     "locked": true,
     "schema_version": 1,
     "solution": false
    }
   },
   "source": [
    "\n",
    "In the first cell of the notebook, give us your name and student number in the way indicated above. \n",
    "\n",
    "Fill in the notebook (see below for code cells and text cells that you need to fill in).\n",
    "\n",
    "If you look at the menus above (File, Edit, View etc.), there is one called \"Cell\". If you click on this, you can change the \"Cell Type\". Choose \"Code\" when you are typing python or R code. Choose \"Markdown\" when you are typing, well, markdown.\n",
    "\n",
    "When you finish the notebook, make sure that you **save it with the output of your code included**. \n",
    "\n",
    "Then put it on github, e.g. by dragging it onto github (see instructions below). \n",
    "\n",
    "Finally, add a link to your README file with the name of this exam: \"Exam September 7, 2018\".\n",
    "\n"
   ]
  },
  {
   "cell_type": "markdown",
   "metadata": {
    "deletable": false,
    "editable": false,
    "nbgrader": {
     "checksum": "de320ce66e4b6f0a0457a258dea1bd41",
     "grade": false,
     "grade_id": "cell-e1cf88cb799f1f43",
     "locked": true,
     "schema_version": 1,
     "solution": false
    }
   },
   "source": [
    "## Demand and equilibrium\n",
    "\n",
    "We start by importing the usual libraries."
   ]
  },
  {
   "cell_type": "code",
   "execution_count": 2,
   "metadata": {
    "deletable": false,
    "editable": false,
    "nbgrader": {
     "checksum": "7bd770ef54db47c3b6c8d0e31f6baef6",
     "grade": false,
     "grade_id": "cell-b895769bf40e183a",
     "locked": true,
     "schema_version": 1,
     "solution": false
    }
   },
   "outputs": [],
   "source": [
    "import matplotlib.pyplot as plt\n",
    "import pandas as pd\n",
    "import numpy as np\n",
    "from scipy import optimize\n",
    "%matplotlib inline"
   ]
  },
  {
   "cell_type": "markdown",
   "metadata": {
    "deletable": false,
    "editable": false,
    "nbgrader": {
     "checksum": "74eea1383af9a678cca5cd1641bd8cbd",
     "grade": false,
     "grade_id": "cell-83284c4090d6de8c",
     "locked": true,
     "schema_version": 1,
     "solution": false
    }
   },
   "source": [
    "#### a) [1 point] Explain in words what the following code does. Which property of booleans in python do we use for this to work?\n",
    "\n",
    "[hint: copy-paste part of the code in a cell to evaluate each step separately]"
   ]
  },
  {
   "cell_type": "code",
   "execution_count": 3,
   "metadata": {
    "deletable": false,
    "editable": false,
    "nbgrader": {
     "checksum": "a107c376d499a16a0e27d813fba3c499",
     "grade": false,
     "grade_id": "cell-7770128c0a989c60",
     "locked": true,
     "schema_version": 1,
     "solution": false
    }
   },
   "outputs": [
    {
     "data": {
      "text/plain": [
       "0.625"
      ]
     },
     "execution_count": 3,
     "metadata": {},
     "output_type": "execute_result"
    }
   ],
   "source": [
    "np.sum(np.array([1,2,3,4,5,6,7,8])>3)/len(np.array([1,2,3,4,5,6,7,8])>3)"
   ]
  },
  {
   "cell_type": "code",
   "execution_count": 4,
   "metadata": {},
   "outputs": [
    {
     "name": "stdout",
     "output_type": "stream",
     "text": [
      "Help on built-in function len in module builtins:\n",
      "\n",
      "len(obj, /)\n",
      "    Return the number of items in a container.\n",
      "\n"
     ]
    }
   ],
   "source": [
    "help(len)"
   ]
  },
  {
   "cell_type": "markdown",
   "metadata": {
    "deletable": false,
    "nbgrader": {
     "checksum": "3a32df4588a1c3424a5d2e79404d1f9f",
     "grade": true,
     "grade_id": "cell-8a5761555a34b60b",
     "locked": false,
     "points": 1,
     "schema_version": 1,
     "solution": true
    }
   },
   "source": [
    "First, Python makes a list of numbers between 1 and 8 that are larger than 3. Python sums all the numbers for which this is true, so on the left side of the divide mark we have 5. On the righthand side, there is also a list of numbers from 1 to 8. The function len() gives us the number of items in this list, which is 8. Hence, we divide 5 by 8. The answer will be 0.625."
   ]
  },
  {
   "cell_type": "markdown",
   "metadata": {
    "deletable": false,
    "editable": false,
    "nbgrader": {
     "checksum": "954d5a96439e4265a384d91a97b22648",
     "grade": false,
     "grade_id": "cell-1a9c57d4d1fc34dc",
     "locked": true,
     "schema_version": 1,
     "solution": false
    }
   },
   "source": [
    "Consider a market with 1000 consumers. Each consumer is willing to buy either 1 or 0 units of the product in this market. If the consumer does not buy, her utility equals 0.\n",
    "\n",
    "The vector of valuations of all 1000 consumers in the market is given by the vector `vector_utilities` below.\n"
   ]
  },
  {
   "cell_type": "code",
   "execution_count": 5,
   "metadata": {
    "deletable": false,
    "editable": false,
    "nbgrader": {
     "checksum": "916e0335b3020a8c0ff45e237001f8b7",
     "grade": false,
     "grade_id": "cell-d33704e6e42e5387",
     "locked": true,
     "schema_version": 1,
     "solution": false
    }
   },
   "outputs": [],
   "source": [
    "N_consumers = 1000\n",
    "vector_utilities = np.random.normal(10,3,size=N_consumers)"
   ]
  },
  {
   "cell_type": "code",
   "execution_count": 6,
   "metadata": {},
   "outputs": [
    {
     "data": {
      "text/plain": [
       "array([ 8.50418036, 10.6343926 , 12.52886261,  9.21886057, 14.71336147,\n",
       "        5.55235457,  9.9395299 ,  7.31629333,  7.10655342,  8.69891179,\n",
       "        7.94453313,  5.44524559,  8.93241215, 11.30959898, 15.7760578 ,\n",
       "        9.60804442,  9.1696543 ,  9.21620374,  8.66022599,  8.33330297,\n",
       "        6.29977541, 10.49810965, 14.11490424,  9.49973997,  4.92223145,\n",
       "       11.38074267, 13.00467948, 10.59410028, 11.58545845, 10.9400389 ,\n",
       "        8.65637052, 12.56728051, 13.23449729,  9.34465804,  6.95499851,\n",
       "        9.40221417,  9.02162015, 12.51994327,  3.49787434, 11.35296461,\n",
       "       14.16221687, 12.01253163, 12.76330034, 10.20612928,  9.68962579,\n",
       "        8.17583438, 10.9150681 ,  5.38743148, 10.71276043,  3.63311495,\n",
       "        9.31554658,  8.58336118, 12.88953766,  8.75097786,  7.38263843,\n",
       "        8.14388568, 12.67639417, 11.26615371,  9.72276319,  9.2861726 ,\n",
       "       11.91038393, 12.94325426,  7.89858457,  8.65726927, 10.13334838,\n",
       "       10.41913514,  9.68546816, 12.56509447, 12.0662958 ,  5.64504452,\n",
       "       10.39884079, 10.03462434,  9.78832222,  7.11958644,  7.78863419,\n",
       "        5.95602429,  3.43773929,  8.8834337 ,  7.73575522, 11.35447222,\n",
       "       12.80368667,  8.95430048, 11.13905435,  8.5210793 ,  7.72453591,\n",
       "        9.80869103,  9.22860877, 15.729755  , 10.82059305, 10.68059217,\n",
       "       13.37615733, 13.35613033,  7.33304268, 11.11504043,  8.58093725,\n",
       "       11.81900376, 11.45029373,  7.5839299 ,  7.16449565,  8.96704503,\n",
       "        5.62198996, 12.22069491,  8.63867388,  8.98163689,  7.89749296,\n",
       "        6.41892556, 12.83794676,  9.88786969, 11.22180145, 15.72892003,\n",
       "       11.64898388, 11.1366067 ,  8.83886662,  5.87043121,  7.65133004,\n",
       "        9.62378044, 10.59808213,  5.23842891, 11.28646108, 12.2757753 ,\n",
       "       10.65066307,  8.20303038, 14.18544283, 13.16227479,  9.85375617,\n",
       "        9.48422578,  9.69193689, 10.71582419,  9.88800097, 15.42342675,\n",
       "       14.34999388, 15.12687273,  4.53657219,  6.03021447,  9.33870123,\n",
       "       14.15858892,  5.16260582, 11.26156854,  6.28905777, 13.81233574,\n",
       "       10.37619458, 10.98203876,  8.2649683 , 15.06206333, 14.97945829,\n",
       "       11.89346587,  7.15150523,  7.7041105 ,  4.8641278 , 12.81026031,\n",
       "       17.60222024,  8.47264152,  9.23866632, 11.67166437, 10.45195463,\n",
       "       13.53899216, 10.37983672,  8.14795146,  5.7093445 ,  8.64291298,\n",
       "        7.40335207,  7.43497476,  5.49706572,  7.14936484,  6.02859337,\n",
       "       12.41934391, 16.09932582,  7.9627948 ,  9.8659251 , 12.38766226,\n",
       "       10.59502414, 10.29701822,  9.64697386,  8.76701202,  8.12882706,\n",
       "       13.01307436,  5.89606192,  8.78562601, 15.01833719, 10.97134651,\n",
       "        8.14734904,  9.26273802,  5.32731106, 10.44677376,  9.7099409 ,\n",
       "       10.05629065,  8.78871937, 12.45636814,  9.40866509,  8.73597506,\n",
       "       10.17969338, 12.09040123, 10.66621634,  5.2820403 ,  8.67645755,\n",
       "       11.42771761,  8.12966223, 12.0839016 ,  9.89650806,  9.76719166,\n",
       "       10.90799058, 10.96002454, 16.17161268,  5.44064221, 10.06743986,\n",
       "        6.91095449, 12.43737837,  4.62147742, 12.69637069,  5.48337939,\n",
       "        5.40051294, 16.0520563 , 10.66092587, 10.89773838, 12.59680049,\n",
       "        5.8046781 ,  9.79361997,  7.93665145,  9.21888268,  5.54726401,\n",
       "        9.29670146, 11.58329826, 12.84140119, 11.16809605,  5.4267471 ,\n",
       "       12.95411384,  8.63107147, 10.31299555, 10.33018589, 10.80498781,\n",
       "        9.96038453, 11.15340974, 14.36595738,  9.06063402, 10.00759837,\n",
       "       10.15328954,  7.86556565, 14.46334119,  7.92743939,  7.87773399,\n",
       "       11.68201711,  9.53760235,  9.07259411, 13.75463911,  6.46270123,\n",
       "        8.56433541, 11.4452903 ,  9.83124123,  7.2460211 , 10.09045259,\n",
       "        7.42073847,  9.10184777, 11.54890803, 10.20342346, 10.71302422,\n",
       "       13.1520866 ,  9.67045379, 10.33292173, 14.23703633,  2.03861643,\n",
       "       10.36329514, 16.79332624,  8.96835726, 12.18231835, 10.09840115,\n",
       "        7.58257764,  6.22358941, 14.78790513,  9.57316404,  6.23195425,\n",
       "        8.026913  , 12.73817239, 12.54755403,  9.22538331,  8.74042862,\n",
       "        9.35146203, 12.34503007,  9.32470269,  9.09928467,  4.10053442,\n",
       "       11.0973498 ,  9.53287115, 10.37652539, 11.32201121,  8.28785475,\n",
       "        6.6145032 ,  4.93735024, 11.31984788, 11.00311969,  4.55071707,\n",
       "        9.21814298, 15.49419889, 12.36207671, 13.14524318,  6.67230325,\n",
       "       10.59933638,  6.9092079 , 11.78378751, 11.56719453, 11.38780394,\n",
       "        5.31896162, 14.20621936, 11.70999004, 12.40553816, 13.51676319,\n",
       "        3.74987913, 13.07774286,  7.58956114, 13.36793534,  7.79056314,\n",
       "       10.31551041,  8.86244899,  8.37938228,  9.23838449,  7.56220099,\n",
       "        8.92575066,  8.12387091, 10.93893279, 13.45528419, 13.9506225 ,\n",
       "        4.36998505, 14.07101992, 10.16474381, 11.16024909,  8.3600502 ,\n",
       "       11.81831084,  8.83471472, 10.42420834,  9.79128143,  6.98866161,\n",
       "        9.38048103,  9.87815155,  9.96751661,  5.49108785,  9.27440887,\n",
       "       19.87479037,  9.44704151,  6.80962438,  8.19084284, 12.30375103,\n",
       "       12.55870422, 11.67876144,  8.51362587,  6.57700065, 11.08836851,\n",
       "        7.37412272,  5.48695174, 12.56005714,  7.52915366, 10.10566879,\n",
       "        4.90175823, 10.14363581, 12.44316564, 10.89274789,  8.21569973,\n",
       "       10.85303739, 12.68662581,  6.01230427,  4.81186691,  6.60403063,\n",
       "       13.63112214, 12.55913334,  2.78737188, 11.30144738,  5.22592583,\n",
       "       16.04608445,  9.47385835, 10.66581268,  9.53362725,  6.89988033,\n",
       "        9.55508976,  6.07255577, 12.63608061,  8.56872987, 10.52629729,\n",
       "       12.2321994 , 12.70767933, 11.83477121, 14.69046646, 11.67918426,\n",
       "        7.91602636, 13.5965384 , 11.19080023,  6.59626365, 12.02332356,\n",
       "       10.96230148, 11.78909465,  7.11341844, 11.38904401, 14.40788837,\n",
       "        8.12175975,  6.47627206,  4.43176326,  7.21346361,  5.7418905 ,\n",
       "        3.19316069, 10.67812627, 10.68469404, 11.93087561, 12.65807758,\n",
       "       12.43396472,  9.09420338, 14.06203581, 18.40133063,  9.72056715,\n",
       "        9.84669243, 13.38626476, 13.24599161, 11.83997744, 10.66422061,\n",
       "       10.26597439, 10.79065744,  9.60566771,  8.86664029, 10.47084108,\n",
       "        8.50495381, 13.03357873, 13.40835257,  9.72974293,  6.41395632,\n",
       "       12.00309049, 13.16178881,  9.0308745 , 13.87161901, 14.0995378 ,\n",
       "        5.35158622,  5.56802159, 10.61129396, 13.28364653, 11.83586794,\n",
       "       12.65208405, 12.7116373 , 12.9691971 ,  6.02858268,  8.66310947,\n",
       "       10.53096134,  8.8072044 ,  7.65061895,  8.36387767,  6.7588915 ,\n",
       "        9.47165043, 13.31577294,  8.90334065,  7.78640094, 13.4937724 ,\n",
       "        6.45483746,  8.16668729,  6.20190137, 10.4925336 ,  8.63948988,\n",
       "        7.7771252 , 10.48948713,  8.06495835, 11.10391894, 10.19033225,\n",
       "        8.01256853,  7.95557598, 16.02462512,  6.87751643,  5.08567599,\n",
       "       11.13691576, 13.52355854, 15.64076515, 13.12060701,  4.40629476,\n",
       "       11.07544573,  5.44041942, 15.30462073,  7.31435087, 11.74703788,\n",
       "       13.84009928,  7.52779056, 12.58973885,  7.5806476 , 16.88935041,\n",
       "        7.7258708 ,  9.06376437,  9.16662709, 16.82538223,  9.71885501,\n",
       "       14.02476755,  6.20616546, 11.10717193, 10.15754956, 12.07571236,\n",
       "        7.87964227,  8.99977982, 10.79603683, 13.30930665,  8.76995793,\n",
       "        2.81206597, 10.84920107, 10.83325918, 11.76518279,  7.72199779,\n",
       "        6.85079564, 12.00926512, 12.92289299,  7.16077306,  6.99221048,\n",
       "       12.58379895,  7.72938659,  4.95487055,  5.15505428,  5.32414765,\n",
       "        4.04433717, 12.33884874, 11.76947094, 13.39476067, 10.43942913,\n",
       "       13.79888301,  8.08208887, 11.38242991,  5.1959797 ,  9.68509587,\n",
       "       12.19687622, 10.47233627, 14.30928331, 10.01261703, 12.4236739 ,\n",
       "       11.36097341,  7.97244199,  9.01586792,  7.14425983,  8.20086892,\n",
       "       10.48600766, 11.08832868,  9.4073417 ,  7.40520138,  7.19398838,\n",
       "       11.98710683, 10.9874327 ,  3.53896786, 12.16771093, 10.4407843 ,\n",
       "       11.60905904, 10.84677965, 12.75800689,  6.81969261,  8.24679469,\n",
       "       12.1423617 , 10.50146443,  7.39409222, 10.60667663, 13.67867119,\n",
       "        5.26203035, 13.46393473,  8.18497416, 10.33768154,  5.83917333,\n",
       "       10.41727183, 11.22713856,  9.07940578,  8.15769904,  3.23888075,\n",
       "       11.01559762, 19.68120209,  7.7353016 ,  7.52164954,  1.80671113,\n",
       "       10.07036235,  6.41516495, 11.10009577, 17.88201473,  9.1490236 ,\n",
       "        4.64228441, 10.54795094, 10.68204694, 11.42958695, 12.11163717,\n",
       "        6.37489382,  6.60259992,  6.69984886, 12.74709638, 11.66024583,\n",
       "        5.06205017, 14.16688818, 11.38586409,  6.11673344,  7.31053803,\n",
       "        6.4450445 , 11.42973176,  8.15424308, 11.78148478,  9.20224035,\n",
       "       10.86423353,  9.67125397,  5.96369646, 14.90119946, 12.64872839,\n",
       "        6.93678746, 11.46332624,  9.49170014, 13.17191746, 10.74335507,\n",
       "        9.84967604, 11.10366406, 15.08587254, 11.8837539 , 10.160016  ,\n",
       "       11.10791225,  6.85426104, 19.71248831, 13.18480471, 10.19791508,\n",
       "        9.57467105, 11.74014608,  6.24921354,  6.22942585,  6.5950989 ,\n",
       "        5.27265762,  8.25753598,  7.93789851, 17.46461674, 14.20149586,\n",
       "        8.27948967,  7.82069971,  8.0009601 , 14.16217909,  6.55350246,\n",
       "        9.76704485,  9.93490612, 12.12231929,  7.90881779, 14.68864717,\n",
       "        7.90051552, 12.69545272,  6.32224907,  8.75719388, 14.34642982,\n",
       "       11.91460968, 12.53696302, 13.56620598, 12.22549409,  5.26425362,\n",
       "        8.29618443,  7.35433011, 10.56681165,  7.99807508, 11.3578746 ,\n",
       "       12.75445662,  7.70876889,  7.38156396,  7.77042094,  5.83628592,\n",
       "       13.39356863, 16.94150674,  7.05725869, 10.09191379,  5.79125949,\n",
       "        8.25332168, 10.8904197 , 15.00690523,  9.58600035,  8.50205577,\n",
       "       11.65176271, 11.27493878,  8.70884431, 10.90833895, 12.60628537,\n",
       "       11.26797084,  9.20451306, 11.9851608 ,  9.73230643,  9.13791705,\n",
       "       11.4120286 , 12.5304091 , 11.1917097 , 10.73328982,  9.61170864,\n",
       "       13.56457727,  5.79905934, 12.5053779 , 11.21414596, 10.71349755,\n",
       "       10.21625351,  8.30199413,  8.71904082,  6.30370108, 11.22206098,\n",
       "       17.33374019, 17.55745253, 11.10543474,  7.95023528,  6.65946931,\n",
       "        8.41795488,  8.6701126 ,  8.36644541, 11.31667651, 10.29144087,\n",
       "        8.58921439, 11.08672231, 10.01153103,  8.46516768, 11.37732575,\n",
       "        9.80666439, 18.5591944 , 12.36902965,  9.23504597, 12.03366959,\n",
       "        6.75007202, 13.29188634, 13.89016521, 13.58176204,  7.33789392,\n",
       "        4.90804608, 13.07519229, 10.32017674,  3.25010643, 12.03317135,\n",
       "       11.799606  , 14.28400732,  8.98543536,  3.67087822, 11.17620289,\n",
       "        7.26244122,  7.14522612, 12.22629276,  9.94103336,  9.09756542,\n",
       "        9.24313501,  8.22168362, 15.61168814, 10.23793124,  9.61012017,\n",
       "       12.43350177,  8.97950749, 10.11566829, 12.76518792, 11.7101029 ,\n",
       "       10.78290525, 12.46614303, 11.86089425,  8.41547289,  9.13592976,\n",
       "        8.75389267, 10.93047864, 11.71434437, 11.88856619,  7.5910371 ,\n",
       "        7.43711676, 11.56152036, 10.34656471, 14.92814102, 12.3158575 ,\n",
       "       16.30027292,  9.3463885 , 11.40815194,  9.89036536,  7.23236197,\n",
       "       12.37195768,  9.81116384, 13.57529127,  6.98212839,  9.3722813 ,\n",
       "        7.54185615, 14.34776382, 11.98472979, 12.73207889, 16.95914798,\n",
       "       18.57148513, 10.5298901 ,  9.01990301,  8.91672665,  8.96706012,\n",
       "       14.36670101, 12.58700699, 12.34096508, 10.48014015, 15.08553679,\n",
       "        7.83582245, 12.65151551,  6.6683942 ,  7.18211567,  8.17642017,\n",
       "        5.30624649, 17.55515555, 11.45559248,  3.24524103,  9.21048128,\n",
       "        9.78408898,  9.8857607 ,  5.0011994 ,  3.77572942, 11.30587523,\n",
       "        8.15807765, 13.29277477, 11.14287672, 15.2465287 , 10.43217728,\n",
       "        9.76550611, 10.84700632, 11.17850916, 10.13858962,  5.76611177,\n",
       "        7.43471512, 10.57157101, 10.92788413,  7.72104203, 10.46132256,\n",
       "        6.55070883, 11.19523562,  8.62535396, 12.48072839,  5.83297071,\n",
       "        7.04910511, 13.84691286, 12.38934079,  4.12417485,  6.22995482,\n",
       "        4.46173304, 11.13204327, 16.64195485, 10.60767392, 10.7665612 ,\n",
       "        6.91267697,  8.37535761,  3.47787944, 10.80011562,  7.90221751,\n",
       "       15.71098219,  7.39917675,  6.35608182,  9.36879986,  9.73488517,\n",
       "       12.67849207, 14.36982184,  9.58105052,  8.22818592, 14.28716135,\n",
       "       10.78183464, 10.06756002, 16.82250297,  6.82347744, 12.84821568,\n",
       "        8.90150426,  9.25688605, 11.14119988, 10.71481995, 13.03646812,\n",
       "       11.99128537,  1.57800397,  9.19078942,  9.96293345,  7.44795795,\n",
       "        8.87648201,  8.78379379,  9.91342425,  8.06000055, 11.49668834,\n",
       "       12.50372761,  9.86634536,  3.6813178 ,  5.91370812, 11.27172153,\n",
       "       10.56679333, 10.82147137,  9.01650414,  4.46584503, 11.83124871,\n",
       "        8.45203885, 12.92771667,  5.61809532,  7.91945868, 13.55593279,\n",
       "        6.81519268,  5.91677923, 14.1483893 , 11.47178975, 11.17207106,\n",
       "       11.07409093,  3.28349978,  8.08332848,  5.4592225 , 13.63611832,\n",
       "        9.69236765, 12.04351543,  8.14087805,  9.2273014 , 13.36691569,\n",
       "       11.85320391, 12.4528325 , 11.2798938 ,  7.00396099,  8.29746542,\n",
       "       11.08851058,  9.90782932, 14.42537661, 16.04410408, 12.87226152,\n",
       "       14.39286736,  8.67544382, 12.06340262,  6.71565162, 12.22719894,\n",
       "       10.29410663,  9.3888293 ,  8.53437796,  7.63000269, 12.56834852,\n",
       "        3.62889544,  7.56788226,  7.08476532,  8.59517594,  0.92046198,\n",
       "        6.54834375, 11.76061134,  6.96693908, 13.55523441,  8.45866448,\n",
       "        8.34210343,  6.6758226 , 13.20824794,  5.15256902, 11.8068554 ,\n",
       "        6.3043619 , 14.96564591, 12.35744483,  5.97298427,  3.32709558,\n",
       "       10.34226729, 13.54688157,  6.72153313, 13.33766153, 12.98625449,\n",
       "       13.51404482,  6.87816424,  9.86470223,  8.56023409, 10.89181301,\n",
       "        9.91643557,  5.21432235, 11.41147316,  5.40951056,  7.69419776,\n",
       "        5.68399047, 10.42131618, 16.55461022, 12.49722516,  8.07308749,\n",
       "       12.37379224,  9.32454251,  4.35479334,  3.27700509,  8.08210186,\n",
       "        7.04911744,  6.29797456, 10.9719061 ,  7.94327829,  8.79641045,\n",
       "       12.78789548, 13.85964058, 11.16572676,  4.64348492,  8.94399943,\n",
       "        9.04371888,  6.24349303, 11.72859189,  8.42030053,  9.3034891 ,\n",
       "        4.38882987,  9.12303115,  9.16815194, 10.32157633, 11.4091573 ,\n",
       "       13.39498012, 10.73637307, 12.7943138 , 13.8757355 ,  5.05373203,\n",
       "        8.40920869,  9.36035698, 17.59344427,  7.95996785,  5.70232936,\n",
       "       14.22661526, 14.23275911,  4.391583  , 12.81091326,  7.94438684,\n",
       "       12.23769918,  6.57679237,  8.55524526, 14.06775884, 15.19485843,\n",
       "        2.70888194,  8.51481756,  8.90016365, 10.30462229, 15.49063058,\n",
       "       12.39267827, 11.31741947, 11.15879526, 14.3142987 ,  9.54387636,\n",
       "        7.0537932 ,  7.87667863,  8.75198056,  8.05066224, 10.96513933])"
      ]
     },
     "execution_count": 6,
     "metadata": {},
     "output_type": "execute_result"
    }
   ],
   "source": [
    "vector_utilities"
   ]
  },
  {
   "cell_type": "markdown",
   "metadata": {
    "deletable": false,
    "editable": false,
    "nbgrader": {
     "checksum": "384f67102189bb6ecdfb036b331c113a",
     "grade": false,
     "grade_id": "cell-3b8ee172d9950128",
     "locked": true,
     "schema_version": 1,
     "solution": false
    }
   },
   "source": [
    "#### b) [0.5 points] Explain what the code `np.random.normal` does."
   ]
  },
  {
   "cell_type": "markdown",
   "metadata": {
    "deletable": false,
    "nbgrader": {
     "checksum": "2169b1e7f731f29c623bcc250e54e587",
     "grade": true,
     "grade_id": "cell-a5e7853f661e19b2",
     "locked": false,
     "points": 0.5,
     "schema_version": 1,
     "solution": true
    }
   },
   "source": [
    "With this code, Python draws randomly numbers following a normal distribution. \n",
    "In this case, the mean is 10, the standard deviation is 3 and there are 1000 numbers drawn."
   ]
  },
  {
   "cell_type": "markdown",
   "metadata": {
    "deletable": false,
    "editable": false,
    "nbgrader": {
     "checksum": "523c4611a9ddbfb2d6623e06f3607c07",
     "grade": false,
     "grade_id": "cell-4b33762aa4a601fe",
     "locked": true,
     "schema_version": 1,
     "solution": false
    }
   },
   "source": [
    "#### c) [1. point] (i) Create a histogram of the vector `vector_utilities`. (ii) Make sure that we have relative frequencies (not absolute numbers) on the vertical axis [hint: you can use google to figure out how this works] (iii) Put the label 'utility' on the horizontal axis and the label 'frequency' on the vertical axis."
   ]
  },
  {
   "cell_type": "code",
   "execution_count": 7,
   "metadata": {
    "deletable": false,
    "nbgrader": {
     "checksum": "16debdd606d4af967efa09bbca10b9bb",
     "grade": true,
     "grade_id": "cell-5ee215676b91f504",
     "locked": false,
     "points": 1,
     "schema_version": 1,
     "solution": true
    }
   },
   "outputs": [
    {
     "data": {
      "text/plain": [
       "Text(0.5,1,'vector utilities')"
      ]
     },
     "execution_count": 7,
     "metadata": {},
     "output_type": "execute_result"
    },
    {
     "data": {
      "image/png": "[encoded data removed]",
      "text/plain": [
       "<matplotlib.figure.Figure at 0x13ae12455c0>"
      ]
     },
     "metadata": {},
     "output_type": "display_data"
    }
   ],
   "source": [
    "plt.hist(vector_utilities, bins = 'auto', normed = 1) \n",
    "plt.xlabel('utility')\n",
    "plt.ylabel('frequency')\n",
    "plt.title('vector utilities')\n",
    "#Bins = 'auto' gives the relative frequencies on the y-axis instead of the absolute frequencies"
   ]
  },
  {
   "cell_type": "markdown",
   "metadata": {
    "deletable": false,
    "editable": false,
    "nbgrader": {
     "checksum": "3485a92688a0345c2d40931951cee684",
     "grade": false,
     "grade_id": "cell-3cc076ae39753881",
     "locked": true,
     "schema_version": 1,
     "solution": false
    }
   },
   "source": [
    "#### d) [0.5 points] Complete the following function which gives for each price `p` the demand (number of consumers willing to buy at price `p`.\n",
    "\n",
    "[hint 1: what must be true for an element in `vector_utilities` for this consumer to buy the product?]\n",
    "\n",
    "[hint 2: part of what you learned under a) may be useful here]"
   ]
  },
  {
   "cell_type": "code",
   "execution_count": 8,
   "metadata": {
    "deletable": false,
    "nbgrader": {
     "checksum": "c1b2a7dbf7c6cdd23736d236c6672135",
     "grade": true,
     "grade_id": "cell-0f18e4fded25833f",
     "locked": false,
     "points": 0.5,
     "schema_version": 1,
     "solution": true
    }
   },
   "outputs": [],
   "source": [
    "p = np.arange(0.0,10.1,0.1)\n",
    "x = vector_utilities[0:1000]\n",
    "def demand2(p):\n",
    "    return x\n",
    "#Consumers will buy a product if the utility they gain from buying the product is equal or larger than the price they have to pay.\n",
    "#However, I don't know how to convert the vector into a list of variables."
   ]
  },
  {
   "cell_type": "markdown",
   "metadata": {},
   "source": [
    "#### e) [0.5 points] Plot this demand function. Recall that economists tend to put quantity on the horizontal axis and price on the vertical axis.\n",
    "\n",
    "[hint: if for some reason you could not solve d) work with the following --incorrect-- demand function:\n",
    "\n",
    "`def demand(p):\n",
    "   return 1000-p`\n",
    "\n",
    "to finish the exam.]"
   ]
  },
  {
   "cell_type": "code",
   "execution_count": null,
   "metadata": {
    "deletable": false,
    "nbgrader": {
     "checksum": "999db468136d31b16196015f24ac5fa7",
     "grade": true,
     "grade_id": "cell-e88dc4842fb2c38c",
     "locked": false,
     "points": 0.5,
     "schema_version": 1,
     "solution": true
    }
   },
   "outputs": [],
   "source": []
  },
  {
   "cell_type": "code",
   "execution_count": 9,
   "metadata": {},
   "outputs": [
    {
     "data": {
      "text/plain": [
       "Text(0,0.5,'Price')"
      ]
     },
     "execution_count": 9,
     "metadata": {},
     "output_type": "execute_result"
    },
    {
     "data": {
      "image/png": "[encoded data removed]",
      "text/plain": [
       "<matplotlib.figure.Figure at 0x13ae1245208>"
      ]
     },
     "metadata": {},
     "output_type": "display_data"
    }
   ],
   "source": [
    "def demand(p):\n",
    "    return 1000-p\n",
    "plt.plot(demand(np.arange(0.0,10.1,0.1)), np.arange(0.0,10.1,0.1))\n",
    "plt.xlabel('Quantity')\n",
    "plt.ylabel('Price')\n",
    "#Since I couldn't find the correct formula, I use the wrong one. \n",
    "#By inserting the demand function first and p second, I ensure that price is on the vertical axis and quantity on the horizontal."
   ]
  },
  {
   "cell_type": "markdown",
   "metadata": {
    "deletable": false,
    "editable": false,
    "nbgrader": {
     "checksum": "4465308442518b71a3aabe5c50806149",
     "grade": false,
     "grade_id": "cell-1f9775ff27f62024",
     "locked": true,
     "schema_version": 1,
     "solution": false
    }
   },
   "source": [
    "Assume that there is a fixed supply of 400 units of this product. Consider the following function `excess demand`."
   ]
  },
  {
   "cell_type": "code",
   "execution_count": 10,
   "metadata": {
    "deletable": false,
    "editable": false,
    "nbgrader": {
     "checksum": "7483b16646d39708aeaa8cf5e4a50198",
     "grade": false,
     "grade_id": "cell-09b4afb1c848ad52",
     "locked": true,
     "schema_version": 1,
     "solution": false
    }
   },
   "outputs": [],
   "source": [
    "supply = 400\n",
    "def excess_demand(p):\n",
    "    return demand(p)-supply"
   ]
  },
  {
   "cell_type": "markdown",
   "metadata": {
    "deletable": false,
    "editable": false,
    "nbgrader": {
     "checksum": "b68a36561d750b4325b29a60cd85c95c",
     "grade": false,
     "grade_id": "cell-9847a5147fc6bc0b",
     "locked": true,
     "schema_version": 1,
     "solution": false
    }
   },
   "source": [
    "#### f) [0.5 points] Use a numerical solver to solve for the equilibrium price. Use the figure under e) to give a reasonable starting point for the numerical solver.\n",
    "\n",
    "[hint: what must be true for `excess_demand` at the equilibrium price?]"
   ]
  },
  {
   "cell_type": "code",
   "execution_count": 11,
   "metadata": {
    "deletable": false,
    "nbgrader": {
     "checksum": "d9385c965608e0babffe255a7d375e19",
     "grade": true,
     "grade_id": "cell-6c036cfb38c024d3",
     "locked": false,
     "points": 0.5,
     "schema_version": 1,
     "solution": true
    }
   },
   "outputs": [
    {
     "name": "stdout",
     "output_type": "stream",
     "text": [
      "[600.]\n"
     ]
    }
   ],
   "source": [
    "a = optimize.fsolve(excess_demand, 0)\n",
    "print(a)\n",
    "#At the equilibrium price, demand equals supply. Since supply is fixed at 400, demand should also equal 400.\n",
    "#Therefore, there will be no excess demand, so excess_demand(p) should equal zero. Thus, we need to find the root of this function.\n",
    "#optimize.fsolve should give us the right answer, but returns 600."
   ]
  },
  {
   "cell_type": "markdown",
   "metadata": {},
   "source": [
    "## Github\n",
    "\n",
    "After you have finished, we need to upload this notebook on github."
   ]
  },
  {
   "cell_type": "markdown",
   "metadata": {},
   "source": [
    "Instructions on how to upload this on github can be found [on this page](http://janboone.github.io/programming-for-economists/github.html). This page has two screencasts: one shows how to drag the notebook onto your github page, the other shows how you can use the command line to upload your notebook.\n"
   ]
  },
  {
   "cell_type": "markdown",
   "metadata": {},
   "source": [
    "Remember to update the README file in your repository to include a link to this notebook on github.\n",
    "\n",
    "\n",
    "The links that you should post start with “github.com/” and are NOT of the form “http://localhost”. Make sure you test your links after uploading."
   ]
  },
  {
   "cell_type": "code",
   "execution_count": null,
   "metadata": {},
   "outputs": [],
   "source": []
  }
 ],
 "metadata": {
  "anaconda-cloud": {},
  "kernelspec": {
   "display_name": "Python 3",
   "language": "python",
   "name": "python3"
  },
  "language_info": {
   "codemirror_mode": {
    "name": "ipython",
    "version": 3
   },
   "file_extension": ".py",
   "mimetype": "text/x-python",
   "name": "python",
   "nbconvert_exporter": "python",
   "pygments_lexer": "ipython3",
   "version": "3.6.4"
  }
 },
 "nbformat": 4,
 "nbformat_minor": 1
}
